{
 "cells": [
  {
   "cell_type": "code",
   "execution_count": 3,
   "metadata": {},
   "outputs": [
    {
     "name": "stderr",
     "output_type": "stream",
     "text": [
      "C:\\Users\\hskma\\AppData\\Local\\Temp\\ipykernel_20116\\2211755023.py:13: UserWarning: Could not infer format, so each element will be parsed individually, falling back to `dateutil`. To ensure parsing is consistent and as-expected, please specify a format.\n",
      "  df_time[\"Complete Timestamp\"] = pd.to_datetime(df_time[\"Complete Timestamp\"], errors='coerce')\n"
     ]
    },
    {
     "name": "stdout",
     "output_type": "stream",
     "text": [
      "Predicted Next Activity: Release B, Predicted Remaining Time: 28728.1 seconds (~7.98 hours)\n"
     ]
    },
    {
     "name": "stderr",
     "output_type": "stream",
     "text": [
      "f:\\Code\\GitHub\\Process_Analytics\\.venv\\Lib\\site-packages\\sklearn\\utils\\validation.py:2739: UserWarning: X does not have valid feature names, but RandomForestRegressor was fitted with feature names\n",
      "  warnings.warn(\n"
     ]
    }
   ],
   "source": [
    "import pandas as pd\n",
    "import numpy as np\n",
    "from sklearn.ensemble import RandomForestRegressor\n",
    "from sklearn.model_selection import train_test_split\n",
    "from tensorflow.keras.preprocessing.text import Tokenizer\n",
    "from tensorflow.keras.preprocessing.sequence import pad_sequences\n",
    "\n",
    "# Load Data\n",
    "file_path_time = \"Sepsis_Cases_Log.csv\"\n",
    "df_time = pd.read_csv(file_path_time)\n",
    "\n",
    "# Convert timestamps to datetime format\n",
    "df_time[\"Complete Timestamp\"] = pd.to_datetime(df_time[\"Complete Timestamp\"], errors='coerce')\n",
    "df_time = df_time.dropna(subset=[\"Complete Timestamp\"])\n",
    "df_time = df_time.sort_values(by=[\"Case ID\", \"Complete Timestamp\"])\n",
    "\n",
    "# Compute duration between activities within each case\n",
    "df_time[\"Next Timestamp\"] = df_time.groupby(\"Case ID\")[\"Complete Timestamp\"].shift(-1)\n",
    "df_time[\"Activity Duration\"] = (df_time[\"Next Timestamp\"] - df_time[\"Complete Timestamp\"]).dt.total_seconds()\n",
    "df_time[\"Case Start Time\"] = df_time.groupby(\"Case ID\")[\"Complete Timestamp\"].transform(\"first\")\n",
    "df_time[\"Total Case Duration\"] = (df_time[\"Next Timestamp\"] - df_time[\"Case Start Time\"]).dt.total_seconds()\n",
    "df_time = df_time[[\"Case ID\", \"Activity\", \"Activity Duration\", \"Total Case Duration\"]].dropna()\n",
    "\n",
    "# Compute average remaining time per activity\n",
    "df_time_avg = df_time.groupby(\"Activity\")[\"Total Case Duration\"].mean().reset_index()\n",
    "df_time_avg.rename(columns={\"Total Case Duration\": \"Avg Remaining Time\"}, inplace=True)\n",
    "df_time = df_time.merge(df_time_avg, on=\"Activity\", how=\"left\")\n",
    "\n",
    "# Train RandomForest Model for Remaining Time Prediction\n",
    "X_time = df_time[[\"Activity Duration\"]]\n",
    "y_time = df_time[\"Avg Remaining Time\"]\n",
    "X_train_time, X_test_time, y_train_time, y_test_time = train_test_split(X_time, y_time, test_size=0.2, random_state=42)\n",
    "time_model = RandomForestRegressor(n_estimators=100, random_state=42)\n",
    "time_model.fit(X_train_time, y_train_time)\n",
    "\n",
    "# Tokenizer for sequence processing\n",
    "tokenizer = Tokenizer()\n",
    "all_activities = df_time[\"Activity\"].unique().tolist()\n",
    "tokenizer.fit_on_texts(all_activities)\n",
    "max_sequence_length = max([len(tokenizer.texts_to_sequences([a])[0]) for a in all_activities])\n",
    "\n",
    "# Function to Predict Next Activity and Remaining Time\n",
    "def predict_next_activity_and_time(activity_sequence, feature_values, biomarker_values):\n",
    "    # Convert activity sequence to tokenized format\n",
    "    sequence = tokenizer.texts_to_sequences([activity_sequence])\n",
    "    padded_sequence = pad_sequences(sequence, maxlen=max_sequence_length, padding='post')\n",
    "    \n",
    "    # Predict the next activity (this is a placeholder, should be replaced with trained model prediction)\n",
    "    predicted_next_activity = all_activities[np.random.randint(0, len(all_activities))]\n",
    "    \n",
    "    # Estimate Activity Duration from Historical Data\n",
    "    if predicted_next_activity in df_time_avg[\"Activity\"].values:\n",
    "        predicted_activity_duration = df_time_avg[df_time_avg[\"Activity\"] == predicted_next_activity][\"Avg Remaining Time\"].values[0]\n",
    "    else:\n",
    "        predicted_activity_duration = 600  # Default to 10 minutes if unknown\n",
    "\n",
    "    # Predict Remaining Time\n",
    "    predicted_remaining_time = time_model.predict([[predicted_activity_duration]])[0]\n",
    "    \n",
    "    return predicted_next_activity, round(predicted_remaining_time, 2)\n",
    "\n",
    "# Example Usage\n",
    "example_sequence = \"ER Registration -> ER Triage -> Leucocytes -> CRP -> LacticAcid\"\n",
    "example_features = [1, 1, 1, 1, 1, 0, 0, 1, 0, 0, 1, 1, 50, 1]\n",
    "biomarker_values = {\"Leucocytes\": \"Elevated\", \"CRP\": \"Severe\", \"LacticAcid\": \"High\"}\n",
    "\n",
    "predicted_next_activity, predicted_remaining_time = predict_next_activity_and_time(\n",
    "    example_sequence, example_features, biomarker_values)\n",
    "\n",
    "print(f\"Predicted Next Activity: {predicted_next_activity}, Predicted Remaining Time: {predicted_remaining_time} seconds (~{predicted_remaining_time/3600:.2f} hours)\")"
   ]
  },
  {
   "cell_type": "code",
   "execution_count": null,
   "metadata": {},
   "outputs": [],
   "source": []
  }
 ],
 "metadata": {
  "kernelspec": {
   "display_name": ".venv",
   "language": "python",
   "name": "python3"
  },
  "language_info": {
   "codemirror_mode": {
    "name": "ipython",
    "version": 3
   },
   "file_extension": ".py",
   "mimetype": "text/x-python",
   "name": "python",
   "nbconvert_exporter": "python",
   "pygments_lexer": "ipython3",
   "version": "3.11.9"
  }
 },
 "nbformat": 4,
 "nbformat_minor": 2
}
