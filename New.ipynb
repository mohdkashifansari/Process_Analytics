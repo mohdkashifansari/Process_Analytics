{
 "cells": [
  {
   "cell_type": "code",
   "execution_count": 446,
   "metadata": {},
   "outputs": [],
   "source": [
    "import pandas as pd\n",
    "import numpy as np\n",
    "from sklearn.model_selection import train_test_split\n",
    "from sklearn.ensemble import RandomForestClassifier, RandomForestRegressor\n",
    "from sklearn.preprocessing import LabelEncoder\n"
   ]
  },
  {
   "cell_type": "code",
   "execution_count": 447,
   "metadata": {},
   "outputs": [],
   "source": [
    "# Load and clean data\n",
    "df = pd.read_csv(\"Sepsis_Cases_Log.csv\")\n",
    "df = df[df.groupby('Case ID')['Activity'].transform('first') == 'ER Registration']\n"
   ]
  },
  {
   "cell_type": "code",
   "execution_count": 448,
   "metadata": {},
   "outputs": [],
   "source": [
    "df = df.drop(columns=['org:group', 'Variant', 'Variant index', 'Diagnose', 'lifecycle:transition'])"
   ]
  },
  {
   "cell_type": "code",
   "execution_count": 449,
   "metadata": {},
   "outputs": [],
   "source": [
    "df['Complete Timestamp'] = df['Complete Timestamp'].apply(\n",
    "    lambda x: int(x.split(':')[0]) * 60 + float(x.split(':')[1])\n",
    ")"
   ]
  },
  {
   "cell_type": "code",
   "execution_count": 450,
   "metadata": {},
   "outputs": [
    {
     "name": "stdout",
     "output_type": "stream",
     "text": [
      "Case ID               0\n",
      "Activity              0\n",
      "Complete Timestamp    0\n",
      "dtype: int64\n"
     ]
    }
   ],
   "source": [
    "print(df[['Case ID', 'Activity', 'Complete Timestamp']].isnull().sum())"
   ]
  },
  {
   "cell_type": "code",
   "execution_count": 451,
   "metadata": {},
   "outputs": [],
   "source": [
    "df[['Leucocytes', 'CRP', 'LacticAcid']] = df[['Leucocytes', 'CRP', 'LacticAcid']].fillna(0)"
   ]
  },
  {
   "cell_type": "code",
   "execution_count": 452,
   "metadata": {},
   "outputs": [],
   "source": [
    "df['Age'] = df['Age'].fillna(df['Age'].median())"
   ]
  },
  {
   "cell_type": "code",
   "execution_count": 453,
   "metadata": {},
   "outputs": [
    {
     "name": "stdout",
     "output_type": "stream",
     "text": [
      "Columns with missing values: ['InfectionSuspected', 'DiagnosticBlood', 'DisfuncOrg', 'SIRSCritTachypnea', 'Hypotensie', 'SIRSCritHeartRate', 'Infusion', 'DiagnosticArtAstrup', 'DiagnosticIC', 'DiagnosticSputum', 'DiagnosticLiquor', 'DiagnosticOther', 'SIRSCriteria2OrMore', 'DiagnosticXthorax', 'SIRSCritTemperature', 'DiagnosticUrinaryCulture', 'SIRSCritLeucos', 'Oligurie', 'DiagnosticLacticAcid', 'Hypoxie', 'DiagnosticUrinarySediment', 'DiagnosticECG']\n"
     ]
    }
   ],
   "source": [
    "missing_columns = df.columns[df.isnull().any()].tolist()\n",
    "print(\"Columns with missing values:\", missing_columns)"
   ]
  },
  {
   "cell_type": "code",
   "execution_count": 454,
   "metadata": {},
   "outputs": [
    {
     "name": "stderr",
     "output_type": "stream",
     "text": [
      "C:\\Users\\hskma\\AppData\\Local\\Temp\\ipykernel_14972\\1812025235.py:1: FutureWarning: Downcasting object dtype arrays on .fillna, .ffill, .bfill is deprecated and will change in a future version. Call result.infer_objects(copy=False) instead. To opt-in to the future behavior, set `pd.set_option('future.no_silent_downcasting', True)`\n",
      "  df[missing_columns] = df[missing_columns].fillna(False)\n"
     ]
    }
   ],
   "source": [
    "df[missing_columns] = df[missing_columns].fillna(False)"
   ]
  },
  {
   "cell_type": "code",
   "execution_count": 455,
   "metadata": {},
   "outputs": [
    {
     "name": "stdout",
     "output_type": "stream",
     "text": [
      "Case ID                      0\n",
      "Activity                     0\n",
      "Complete Timestamp           0\n",
      "InfectionSuspected           0\n",
      "DiagnosticBlood              0\n",
      "DisfuncOrg                   0\n",
      "SIRSCritTachypnea            0\n",
      "Hypotensie                   0\n",
      "SIRSCritHeartRate            0\n",
      "Infusion                     0\n",
      "DiagnosticArtAstrup          0\n",
      "Age                          0\n",
      "DiagnosticIC                 0\n",
      "DiagnosticSputum             0\n",
      "DiagnosticLiquor             0\n",
      "DiagnosticOther              0\n",
      "SIRSCriteria2OrMore          0\n",
      "DiagnosticXthorax            0\n",
      "SIRSCritTemperature          0\n",
      "DiagnosticUrinaryCulture     0\n",
      "SIRSCritLeucos               0\n",
      "Oligurie                     0\n",
      "DiagnosticLacticAcid         0\n",
      "Hypoxie                      0\n",
      "DiagnosticUrinarySediment    0\n",
      "DiagnosticECG                0\n",
      "Leucocytes                   0\n",
      "CRP                          0\n",
      "LacticAcid                   0\n",
      "dtype: int64\n"
     ]
    }
   ],
   "source": [
    "print(df.isnull().sum())"
   ]
  },
  {
   "cell_type": "code",
   "execution_count": 456,
   "metadata": {},
   "outputs": [],
   "source": [
    "df['Activity_Sequence'] = df.groupby('Case ID').cumcount() + 1"
   ]
  },
  {
   "cell_type": "code",
   "execution_count": 457,
   "metadata": {},
   "outputs": [],
   "source": [
    "df['Time_Diff'] = df.groupby('Case ID')['Complete Timestamp'].diff().fillna(0)"
   ]
  },
  {
   "cell_type": "code",
   "execution_count": 458,
   "metadata": {},
   "outputs": [],
   "source": [
    "patient_features = df.groupby('Case ID').agg({\n",
    "    'Age': 'first',  # Age is constant for each patient\n",
    "    'InfectionSuspected': 'max',  # True if any activity has True\n",
    "    'DiagnosticBlood': 'max',\n",
    "    'DisfuncOrg': 'max',\n",
    "    # Add other patient-specific attributes here\n",
    "}).reset_index()"
   ]
  },
  {
   "cell_type": "code",
   "execution_count": 459,
   "metadata": {},
   "outputs": [],
   "source": [
    "blood_tests = df.groupby('Case ID').agg({\n",
    "    'Leucocytes': 'max',\n",
    "    'CRP': 'max',\n",
    "    'LacticAcid': 'max'\n",
    "}).reset_index()"
   ]
  },
  {
   "cell_type": "code",
   "execution_count": 460,
   "metadata": {},
   "outputs": [],
   "source": [
    "df = df.merge(patient_features, on='Case ID', how='left')\n",
    "df = df.merge(blood_tests, on='Case ID', how='left')"
   ]
  },
  {
   "cell_type": "code",
   "execution_count": 461,
   "metadata": {},
   "outputs": [
    {
     "data": {
      "text/html": [
       "<div>\n",
       "<style scoped>\n",
       "    .dataframe tbody tr th:only-of-type {\n",
       "        vertical-align: middle;\n",
       "    }\n",
       "\n",
       "    .dataframe tbody tr th {\n",
       "        vertical-align: top;\n",
       "    }\n",
       "\n",
       "    .dataframe thead th {\n",
       "        text-align: right;\n",
       "    }\n",
       "</style>\n",
       "<table border=\"1\" class=\"dataframe\">\n",
       "  <thead>\n",
       "    <tr style=\"text-align: right;\">\n",
       "      <th></th>\n",
       "      <th>Case ID</th>\n",
       "      <th>Activity</th>\n",
       "      <th>Complete Timestamp</th>\n",
       "      <th>InfectionSuspected_x</th>\n",
       "      <th>DiagnosticBlood_x</th>\n",
       "      <th>DisfuncOrg_x</th>\n",
       "      <th>SIRSCritTachypnea</th>\n",
       "      <th>Hypotensie</th>\n",
       "      <th>SIRSCritHeartRate</th>\n",
       "      <th>Infusion</th>\n",
       "      <th>...</th>\n",
       "      <th>LacticAcid_x</th>\n",
       "      <th>Activity_Sequence</th>\n",
       "      <th>Time_Diff</th>\n",
       "      <th>Age_y</th>\n",
       "      <th>InfectionSuspected_y</th>\n",
       "      <th>DiagnosticBlood_y</th>\n",
       "      <th>DisfuncOrg_y</th>\n",
       "      <th>Leucocytes_y</th>\n",
       "      <th>CRP_y</th>\n",
       "      <th>LacticAcid_y</th>\n",
       "    </tr>\n",
       "  </thead>\n",
       "  <tbody>\n",
       "    <tr>\n",
       "      <th>0</th>\n",
       "      <td>A</td>\n",
       "      <td>ER Registration</td>\n",
       "      <td>941.0</td>\n",
       "      <td>True</td>\n",
       "      <td>True</td>\n",
       "      <td>True</td>\n",
       "      <td>True</td>\n",
       "      <td>True</td>\n",
       "      <td>True</td>\n",
       "      <td>True</td>\n",
       "      <td>...</td>\n",
       "      <td>0.0</td>\n",
       "      <td>1</td>\n",
       "      <td>0.0</td>\n",
       "      <td>85.0</td>\n",
       "      <td>True</td>\n",
       "      <td>True</td>\n",
       "      <td>True</td>\n",
       "      <td>13.0</td>\n",
       "      <td>109.0</td>\n",
       "      <td>2.2</td>\n",
       "    </tr>\n",
       "    <tr>\n",
       "      <th>1</th>\n",
       "      <td>A</td>\n",
       "      <td>Leucocytes</td>\n",
       "      <td>1620.0</td>\n",
       "      <td>False</td>\n",
       "      <td>False</td>\n",
       "      <td>False</td>\n",
       "      <td>False</td>\n",
       "      <td>False</td>\n",
       "      <td>False</td>\n",
       "      <td>False</td>\n",
       "      <td>...</td>\n",
       "      <td>0.0</td>\n",
       "      <td>2</td>\n",
       "      <td>679.0</td>\n",
       "      <td>85.0</td>\n",
       "      <td>True</td>\n",
       "      <td>True</td>\n",
       "      <td>True</td>\n",
       "      <td>13.0</td>\n",
       "      <td>109.0</td>\n",
       "      <td>2.2</td>\n",
       "    </tr>\n",
       "    <tr>\n",
       "      <th>2</th>\n",
       "      <td>A</td>\n",
       "      <td>CRP</td>\n",
       "      <td>1620.0</td>\n",
       "      <td>False</td>\n",
       "      <td>False</td>\n",
       "      <td>False</td>\n",
       "      <td>False</td>\n",
       "      <td>False</td>\n",
       "      <td>False</td>\n",
       "      <td>False</td>\n",
       "      <td>...</td>\n",
       "      <td>0.0</td>\n",
       "      <td>3</td>\n",
       "      <td>0.0</td>\n",
       "      <td>85.0</td>\n",
       "      <td>True</td>\n",
       "      <td>True</td>\n",
       "      <td>True</td>\n",
       "      <td>13.0</td>\n",
       "      <td>109.0</td>\n",
       "      <td>2.2</td>\n",
       "    </tr>\n",
       "    <tr>\n",
       "      <th>3</th>\n",
       "      <td>A</td>\n",
       "      <td>LacticAcid</td>\n",
       "      <td>1620.0</td>\n",
       "      <td>False</td>\n",
       "      <td>False</td>\n",
       "      <td>False</td>\n",
       "      <td>False</td>\n",
       "      <td>False</td>\n",
       "      <td>False</td>\n",
       "      <td>False</td>\n",
       "      <td>...</td>\n",
       "      <td>2.2</td>\n",
       "      <td>4</td>\n",
       "      <td>0.0</td>\n",
       "      <td>85.0</td>\n",
       "      <td>True</td>\n",
       "      <td>True</td>\n",
       "      <td>True</td>\n",
       "      <td>13.0</td>\n",
       "      <td>109.0</td>\n",
       "      <td>2.2</td>\n",
       "    </tr>\n",
       "    <tr>\n",
       "      <th>4</th>\n",
       "      <td>A</td>\n",
       "      <td>ER Triage</td>\n",
       "      <td>2017.0</td>\n",
       "      <td>False</td>\n",
       "      <td>False</td>\n",
       "      <td>False</td>\n",
       "      <td>False</td>\n",
       "      <td>False</td>\n",
       "      <td>False</td>\n",
       "      <td>False</td>\n",
       "      <td>...</td>\n",
       "      <td>0.0</td>\n",
       "      <td>5</td>\n",
       "      <td>397.0</td>\n",
       "      <td>85.0</td>\n",
       "      <td>True</td>\n",
       "      <td>True</td>\n",
       "      <td>True</td>\n",
       "      <td>13.0</td>\n",
       "      <td>109.0</td>\n",
       "      <td>2.2</td>\n",
       "    </tr>\n",
       "  </tbody>\n",
       "</table>\n",
       "<p>5 rows × 38 columns</p>\n",
       "</div>"
      ],
      "text/plain": [
       "  Case ID         Activity  Complete Timestamp  InfectionSuspected_x  \\\n",
       "0       A  ER Registration               941.0                  True   \n",
       "1       A       Leucocytes              1620.0                 False   \n",
       "2       A              CRP              1620.0                 False   \n",
       "3       A       LacticAcid              1620.0                 False   \n",
       "4       A        ER Triage              2017.0                 False   \n",
       "\n",
       "   DiagnosticBlood_x  DisfuncOrg_x  SIRSCritTachypnea  Hypotensie  \\\n",
       "0               True          True               True        True   \n",
       "1              False         False              False       False   \n",
       "2              False         False              False       False   \n",
       "3              False         False              False       False   \n",
       "4              False         False              False       False   \n",
       "\n",
       "   SIRSCritHeartRate  Infusion  ...  LacticAcid_x  Activity_Sequence  \\\n",
       "0               True      True  ...           0.0                  1   \n",
       "1              False     False  ...           0.0                  2   \n",
       "2              False     False  ...           0.0                  3   \n",
       "3              False     False  ...           2.2                  4   \n",
       "4              False     False  ...           0.0                  5   \n",
       "\n",
       "   Time_Diff  Age_y  InfectionSuspected_y  DiagnosticBlood_y  DisfuncOrg_y  \\\n",
       "0        0.0   85.0                  True               True          True   \n",
       "1      679.0   85.0                  True               True          True   \n",
       "2        0.0   85.0                  True               True          True   \n",
       "3        0.0   85.0                  True               True          True   \n",
       "4      397.0   85.0                  True               True          True   \n",
       "\n",
       "   Leucocytes_y  CRP_y  LacticAcid_y  \n",
       "0          13.0  109.0           2.2  \n",
       "1          13.0  109.0           2.2  \n",
       "2          13.0  109.0           2.2  \n",
       "3          13.0  109.0           2.2  \n",
       "4          13.0  109.0           2.2  \n",
       "\n",
       "[5 rows x 38 columns]"
      ]
     },
     "execution_count": 461,
     "metadata": {},
     "output_type": "execute_result"
    }
   ],
   "source": [
    "df.head()"
   ]
  },
  {
   "cell_type": "code",
   "execution_count": 462,
   "metadata": {},
   "outputs": [],
   "source": [
    "df = df.drop(columns=[col for col in df.columns if col.endswith('_x')])"
   ]
  },
  {
   "cell_type": "code",
   "execution_count": 463,
   "metadata": {},
   "outputs": [],
   "source": [
    "df = df.rename(columns={col: col.replace('_y', '') for col in df.columns if col.endswith('_y')})"
   ]
  },
  {
   "cell_type": "code",
   "execution_count": 464,
   "metadata": {},
   "outputs": [
    {
     "data": {
      "text/html": [
       "<div>\n",
       "<style scoped>\n",
       "    .dataframe tbody tr th:only-of-type {\n",
       "        vertical-align: middle;\n",
       "    }\n",
       "\n",
       "    .dataframe tbody tr th {\n",
       "        vertical-align: top;\n",
       "    }\n",
       "\n",
       "    .dataframe thead th {\n",
       "        text-align: right;\n",
       "    }\n",
       "</style>\n",
       "<table border=\"1\" class=\"dataframe\">\n",
       "  <thead>\n",
       "    <tr style=\"text-align: right;\">\n",
       "      <th></th>\n",
       "      <th>Case ID</th>\n",
       "      <th>Activity</th>\n",
       "      <th>Complete Timestamp</th>\n",
       "      <th>SIRSCritTachypnea</th>\n",
       "      <th>Hypotensie</th>\n",
       "      <th>SIRSCritHeartRate</th>\n",
       "      <th>Infusion</th>\n",
       "      <th>DiagnosticArtAstrup</th>\n",
       "      <th>DiagnosticIC</th>\n",
       "      <th>DiagnosticSputum</th>\n",
       "      <th>...</th>\n",
       "      <th>DiagnosticECG</th>\n",
       "      <th>Activity_Sequence</th>\n",
       "      <th>Time_Diff</th>\n",
       "      <th>Age</th>\n",
       "      <th>InfectionSuspected</th>\n",
       "      <th>DiagnosticBlood</th>\n",
       "      <th>DisfuncOrg</th>\n",
       "      <th>Leucocytes</th>\n",
       "      <th>CRP</th>\n",
       "      <th>LacticAcid</th>\n",
       "    </tr>\n",
       "  </thead>\n",
       "  <tbody>\n",
       "    <tr>\n",
       "      <th>0</th>\n",
       "      <td>A</td>\n",
       "      <td>ER Registration</td>\n",
       "      <td>941.0</td>\n",
       "      <td>True</td>\n",
       "      <td>True</td>\n",
       "      <td>True</td>\n",
       "      <td>True</td>\n",
       "      <td>True</td>\n",
       "      <td>True</td>\n",
       "      <td>False</td>\n",
       "      <td>...</td>\n",
       "      <td>True</td>\n",
       "      <td>1</td>\n",
       "      <td>0.0</td>\n",
       "      <td>85.0</td>\n",
       "      <td>True</td>\n",
       "      <td>True</td>\n",
       "      <td>True</td>\n",
       "      <td>13.0</td>\n",
       "      <td>109.0</td>\n",
       "      <td>2.2</td>\n",
       "    </tr>\n",
       "    <tr>\n",
       "      <th>1</th>\n",
       "      <td>A</td>\n",
       "      <td>Leucocytes</td>\n",
       "      <td>1620.0</td>\n",
       "      <td>False</td>\n",
       "      <td>False</td>\n",
       "      <td>False</td>\n",
       "      <td>False</td>\n",
       "      <td>False</td>\n",
       "      <td>False</td>\n",
       "      <td>False</td>\n",
       "      <td>...</td>\n",
       "      <td>False</td>\n",
       "      <td>2</td>\n",
       "      <td>679.0</td>\n",
       "      <td>85.0</td>\n",
       "      <td>True</td>\n",
       "      <td>True</td>\n",
       "      <td>True</td>\n",
       "      <td>13.0</td>\n",
       "      <td>109.0</td>\n",
       "      <td>2.2</td>\n",
       "    </tr>\n",
       "    <tr>\n",
       "      <th>2</th>\n",
       "      <td>A</td>\n",
       "      <td>CRP</td>\n",
       "      <td>1620.0</td>\n",
       "      <td>False</td>\n",
       "      <td>False</td>\n",
       "      <td>False</td>\n",
       "      <td>False</td>\n",
       "      <td>False</td>\n",
       "      <td>False</td>\n",
       "      <td>False</td>\n",
       "      <td>...</td>\n",
       "      <td>False</td>\n",
       "      <td>3</td>\n",
       "      <td>0.0</td>\n",
       "      <td>85.0</td>\n",
       "      <td>True</td>\n",
       "      <td>True</td>\n",
       "      <td>True</td>\n",
       "      <td>13.0</td>\n",
       "      <td>109.0</td>\n",
       "      <td>2.2</td>\n",
       "    </tr>\n",
       "    <tr>\n",
       "      <th>3</th>\n",
       "      <td>A</td>\n",
       "      <td>LacticAcid</td>\n",
       "      <td>1620.0</td>\n",
       "      <td>False</td>\n",
       "      <td>False</td>\n",
       "      <td>False</td>\n",
       "      <td>False</td>\n",
       "      <td>False</td>\n",
       "      <td>False</td>\n",
       "      <td>False</td>\n",
       "      <td>...</td>\n",
       "      <td>False</td>\n",
       "      <td>4</td>\n",
       "      <td>0.0</td>\n",
       "      <td>85.0</td>\n",
       "      <td>True</td>\n",
       "      <td>True</td>\n",
       "      <td>True</td>\n",
       "      <td>13.0</td>\n",
       "      <td>109.0</td>\n",
       "      <td>2.2</td>\n",
       "    </tr>\n",
       "    <tr>\n",
       "      <th>4</th>\n",
       "      <td>A</td>\n",
       "      <td>ER Triage</td>\n",
       "      <td>2017.0</td>\n",
       "      <td>False</td>\n",
       "      <td>False</td>\n",
       "      <td>False</td>\n",
       "      <td>False</td>\n",
       "      <td>False</td>\n",
       "      <td>False</td>\n",
       "      <td>False</td>\n",
       "      <td>...</td>\n",
       "      <td>False</td>\n",
       "      <td>5</td>\n",
       "      <td>397.0</td>\n",
       "      <td>85.0</td>\n",
       "      <td>True</td>\n",
       "      <td>True</td>\n",
       "      <td>True</td>\n",
       "      <td>13.0</td>\n",
       "      <td>109.0</td>\n",
       "      <td>2.2</td>\n",
       "    </tr>\n",
       "  </tbody>\n",
       "</table>\n",
       "<p>5 rows × 31 columns</p>\n",
       "</div>"
      ],
      "text/plain": [
       "  Case ID         Activity  Complete Timestamp  SIRSCritTachypnea  Hypotensie  \\\n",
       "0       A  ER Registration               941.0               True        True   \n",
       "1       A       Leucocytes              1620.0              False       False   \n",
       "2       A              CRP              1620.0              False       False   \n",
       "3       A       LacticAcid              1620.0              False       False   \n",
       "4       A        ER Triage              2017.0              False       False   \n",
       "\n",
       "   SIRSCritHeartRate  Infusion  DiagnosticArtAstrup  DiagnosticIC  \\\n",
       "0               True      True                 True          True   \n",
       "1              False     False                False         False   \n",
       "2              False     False                False         False   \n",
       "3              False     False                False         False   \n",
       "4              False     False                False         False   \n",
       "\n",
       "   DiagnosticSputum  ...  DiagnosticECG  Activity_Sequence  Time_Diff   Age  \\\n",
       "0             False  ...           True                  1        0.0  85.0   \n",
       "1             False  ...          False                  2      679.0  85.0   \n",
       "2             False  ...          False                  3        0.0  85.0   \n",
       "3             False  ...          False                  4        0.0  85.0   \n",
       "4             False  ...          False                  5      397.0  85.0   \n",
       "\n",
       "   InfectionSuspected  DiagnosticBlood  DisfuncOrg  Leucocytes    CRP  \\\n",
       "0                True             True        True        13.0  109.0   \n",
       "1                True             True        True        13.0  109.0   \n",
       "2                True             True        True        13.0  109.0   \n",
       "3                True             True        True        13.0  109.0   \n",
       "4                True             True        True        13.0  109.0   \n",
       "\n",
       "   LacticAcid  \n",
       "0         2.2  \n",
       "1         2.2  \n",
       "2         2.2  \n",
       "3         2.2  \n",
       "4         2.2  \n",
       "\n",
       "[5 rows x 31 columns]"
      ]
     },
     "execution_count": 464,
     "metadata": {},
     "output_type": "execute_result"
    }
   ],
   "source": [
    "df.head()"
   ]
  },
  {
   "cell_type": "code",
   "execution_count": 465,
   "metadata": {},
   "outputs": [],
   "source": [
    "# Next Activity\n",
    "df['Next_Activity'] = df.groupby('Case ID')['Activity'].shift(-1)\n",
    "\n",
    "# Total Time Remaining\n",
    "df['Total_Time_Remaining'] = df.groupby('Case ID')['Complete Timestamp'].transform(lambda x: x.max() - x)"
   ]
  },
  {
   "cell_type": "code",
   "execution_count": 466,
   "metadata": {},
   "outputs": [],
   "source": [
    "df = df.dropna(subset=['Next_Activity'])"
   ]
  },
  {
   "cell_type": "code",
   "execution_count": 467,
   "metadata": {},
   "outputs": [
    {
     "name": "stdout",
     "output_type": "stream",
     "text": [
      "  Case ID         Activity  Complete Timestamp     Next_Activity  \\\n",
      "0       A  ER Registration               941.0        Leucocytes   \n",
      "1       A       Leucocytes              1620.0               CRP   \n",
      "2       A              CRP              1620.0        LacticAcid   \n",
      "3       A       LacticAcid              1620.0         ER Triage   \n",
      "4       A        ER Triage              2017.0  ER Sepsis Triage   \n",
      "\n",
      "   Total_Time_Remaining  \n",
      "0                1099.0  \n",
      "1                 420.0  \n",
      "2                 420.0  \n",
      "3                 420.0  \n",
      "4                  23.0  \n"
     ]
    }
   ],
   "source": [
    "print(df[['Case ID', 'Activity', 'Complete Timestamp', 'Next_Activity', 'Total_Time_Remaining']].head())"
   ]
  },
  {
   "cell_type": "code",
   "execution_count": 468,
   "metadata": {},
   "outputs": [],
   "source": [
    "df = pd.get_dummies(df, columns=['Activity'], prefix='Activity')"
   ]
  },
  {
   "cell_type": "code",
   "execution_count": 469,
   "metadata": {},
   "outputs": [],
   "source": [
    "from sklearn.model_selection import train_test_split\n",
    "train_df, test_df = train_test_split(df, test_size=0.2, random_state=42)"
   ]
  },
  {
   "cell_type": "code",
   "execution_count": 470,
   "metadata": {},
   "outputs": [],
   "source": [
    "# Features (X)\n",
    "X = df.drop(columns=['Case ID', 'Complete Timestamp', 'Next_Activity', 'Total_Time_Remaining'])\n",
    "\n",
    "# Target (y)\n",
    "y_next_activity = df['Next_Activity']\n",
    "y_total_time = df['Total_Time_Remaining']"
   ]
  },
  {
   "cell_type": "code",
   "execution_count": 471,
   "metadata": {},
   "outputs": [],
   "source": [
    "from sklearn.model_selection import train_test_split\n",
    "\n",
    "X_train, X_test, y_next_activity_train, y_next_activity_test, y_total_time_train, y_total_time_test = train_test_split(\n",
    "    X, y_next_activity, y_total_time, test_size=0.2, random_state=42\n",
    ")"
   ]
  },
  {
   "cell_type": "code",
   "execution_count": 472,
   "metadata": {},
   "outputs": [
    {
     "name": "stdout",
     "output_type": "stream",
     "text": [
      "Accuracy for Next Activity Prediction: 1.00\n"
     ]
    }
   ],
   "source": [
    "from sklearn.ensemble import RandomForestClassifier\n",
    "from sklearn.metrics import accuracy_score\n",
    "\n",
    "# Train the model\n",
    "rf_classifier = RandomForestClassifier(random_state=42)\n",
    "rf_classifier.fit(X, y_next_activity)\n",
    "\n",
    "# Predict on the test set\n",
    "y_next_activity_pred = rf_classifier.predict(test_df.drop(columns=['Case ID', 'Complete Timestamp', 'Next_Activity', 'Total_Time_Remaining']))\n",
    "\n",
    "# Evaluate the model\n",
    "accuracy = accuracy_score(test_df['Next_Activity'], y_next_activity_pred)\n",
    "print(f\"Accuracy for Next Activity Prediction: {accuracy:.2f}\")"
   ]
  },
  {
   "cell_type": "code",
   "execution_count": 473,
   "metadata": {},
   "outputs": [
    {
     "name": "stdout",
     "output_type": "stream",
     "text": [
      "Mean Squared Error for Total Time Remaining Prediction: 78830.15\n"
     ]
    }
   ],
   "source": [
    "from sklearn.ensemble import RandomForestRegressor\n",
    "from sklearn.metrics import mean_squared_error\n",
    "\n",
    "# Train the model\n",
    "rf_regressor = RandomForestRegressor(random_state=42)\n",
    "rf_regressor.fit(X, y_total_time)\n",
    "\n",
    "# Predict on the test set\n",
    "y_total_time_pred = rf_regressor.predict(test_df.drop(columns=['Case ID', 'Complete Timestamp', 'Next_Activity', 'Total_Time_Remaining']))\n",
    "\n",
    "# Evaluate the model\n",
    "mse = mean_squared_error(test_df['Total_Time_Remaining'], y_total_time_pred)\n",
    "print(f\"Mean Squared Error for Total Time Remaining Prediction: {mse:.2f}\")"
   ]
  },
  {
   "cell_type": "code",
   "execution_count": null,
   "metadata": {},
   "outputs": [],
   "source": []
  }
 ],
 "metadata": {
  "kernelspec": {
   "display_name": ".venv",
   "language": "python",
   "name": "python3"
  },
  "language_info": {
   "codemirror_mode": {
    "name": "ipython",
    "version": 3
   },
   "file_extension": ".py",
   "mimetype": "text/x-python",
   "name": "python",
   "nbconvert_exporter": "python",
   "pygments_lexer": "ipython3",
   "version": "3.11.9"
  }
 },
 "nbformat": 4,
 "nbformat_minor": 2
}
