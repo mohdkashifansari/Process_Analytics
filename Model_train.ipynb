{
 "cells": [
  {
   "cell_type": "code",
   "execution_count": 18,
   "metadata": {},
   "outputs": [
    {
     "name": "stdout",
     "output_type": "stream",
     "text": [
      "Model Accuracy: 0.00%\n"
     ]
    },
    {
     "ename": "ValueError",
     "evalue": "'Elevated' is not in list",
     "output_type": "error",
     "traceback": [
      "\u001b[1;31m---------------------------------------------------------------------------\u001b[0m",
      "\u001b[1;31mValueError\u001b[0m                                Traceback (most recent call last)",
      "Cell \u001b[1;32mIn[18], line 66\u001b[0m\n\u001b[0;32m     64\u001b[0m new_features \u001b[38;5;241m=\u001b[39m [\u001b[38;5;241m1\u001b[39m, \u001b[38;5;241m1\u001b[39m, \u001b[38;5;241m1\u001b[39m, \u001b[38;5;241m1\u001b[39m, \u001b[38;5;241m1\u001b[39m, \u001b[38;5;241m0\u001b[39m, \u001b[38;5;241m0\u001b[39m, \u001b[38;5;241m1\u001b[39m, \u001b[38;5;241m50\u001b[39m, \u001b[38;5;241m1\u001b[39m]\n\u001b[0;32m     65\u001b[0m new_biomarkers \u001b[38;5;241m=\u001b[39m {\u001b[38;5;124m\"\u001b[39m\u001b[38;5;124mLeucocytes\u001b[39m\u001b[38;5;124m\"\u001b[39m: \u001b[38;5;124m\"\u001b[39m\u001b[38;5;124mElevated\u001b[39m\u001b[38;5;124m\"\u001b[39m, \u001b[38;5;124m\"\u001b[39m\u001b[38;5;124mCRP\u001b[39m\u001b[38;5;124m\"\u001b[39m: \u001b[38;5;124m\"\u001b[39m\u001b[38;5;124mSevere\u001b[39m\u001b[38;5;124m\"\u001b[39m}\n\u001b[1;32m---> 66\u001b[0m next_activity \u001b[38;5;241m=\u001b[39m \u001b[43mpredict_next_activity\u001b[49m\u001b[43m(\u001b[49m\u001b[43mnew_sequence\u001b[49m\u001b[43m,\u001b[49m\u001b[43m \u001b[49m\u001b[43mnew_features\u001b[49m\u001b[43m,\u001b[49m\u001b[43m \u001b[49m\u001b[43mnew_biomarkers\u001b[49m\u001b[43m)\u001b[49m\n\u001b[0;32m     67\u001b[0m \u001b[38;5;28mprint\u001b[39m(\u001b[38;5;124mf\u001b[39m\u001b[38;5;124m\"\u001b[39m\u001b[38;5;124mPredicted Next Activity: \u001b[39m\u001b[38;5;132;01m{\u001b[39;00mnext_activity\u001b[38;5;132;01m}\u001b[39;00m\u001b[38;5;124m\"\u001b[39m)\n",
      "Cell \u001b[1;32mIn[18], line 57\u001b[0m, in \u001b[0;36mpredict_next_activity\u001b[1;34m(sequence, features, biomarkers)\u001b[0m\n\u001b[0;32m     55\u001b[0m \u001b[38;5;28;01mdef\u001b[39;00m \u001b[38;5;21mpredict_next_activity\u001b[39m(sequence, features, biomarkers):\n\u001b[0;32m     56\u001b[0m     seq_encoded \u001b[38;5;241m=\u001b[39m sequence_encoder\u001b[38;5;241m.\u001b[39mtransform([sequence])[\u001b[38;5;241m0\u001b[39m]\n\u001b[1;32m---> 57\u001b[0m     bio_encoded \u001b[38;5;241m=\u001b[39m \u001b[43m[\u001b[49m\u001b[43mbiomarker_df\u001b[49m\u001b[43m[\u001b[49m\u001b[43mcol\u001b[49m\u001b[43m]\u001b[49m\u001b[38;5;241;43m.\u001b[39;49m\u001b[43munique\u001b[49m\u001b[43m(\u001b[49m\u001b[43m)\u001b[49m\u001b[38;5;241;43m.\u001b[39;49m\u001b[43mtolist\u001b[49m\u001b[43m(\u001b[49m\u001b[43m)\u001b[49m\u001b[38;5;241;43m.\u001b[39;49m\u001b[43mindex\u001b[49m\u001b[43m(\u001b[49m\u001b[43mbiomarkers\u001b[49m\u001b[38;5;241;43m.\u001b[39;49m\u001b[43mget\u001b[49m\u001b[43m(\u001b[49m\u001b[43mcol\u001b[49m\u001b[43m,\u001b[49m\u001b[43m \u001b[49m\u001b[38;5;124;43m\"\u001b[39;49m\u001b[38;5;124;43mNormal\u001b[39;49m\u001b[38;5;124;43m\"\u001b[39;49m\u001b[43m)\u001b[49m\u001b[43m)\u001b[49m\u001b[43m \u001b[49m\u001b[38;5;28;43;01mfor\u001b[39;49;00m\u001b[43m \u001b[49m\u001b[43mcol\u001b[49m\u001b[43m \u001b[49m\u001b[38;5;129;43;01min\u001b[39;49;00m\u001b[43m \u001b[49m\u001b[43mbiomarker_features\u001b[49m\u001b[43m]\u001b[49m\n\u001b[0;32m     58\u001b[0m     input_features \u001b[38;5;241m=\u001b[39m np\u001b[38;5;241m.\u001b[39mhstack([[seq_encoded], features, bio_encoded])\n\u001b[0;32m     59\u001b[0m     prediction \u001b[38;5;241m=\u001b[39m model\u001b[38;5;241m.\u001b[39mpredict([input_features])\n",
      "Cell \u001b[1;32mIn[18], line 57\u001b[0m, in \u001b[0;36m<listcomp>\u001b[1;34m(.0)\u001b[0m\n\u001b[0;32m     55\u001b[0m \u001b[38;5;28;01mdef\u001b[39;00m \u001b[38;5;21mpredict_next_activity\u001b[39m(sequence, features, biomarkers):\n\u001b[0;32m     56\u001b[0m     seq_encoded \u001b[38;5;241m=\u001b[39m sequence_encoder\u001b[38;5;241m.\u001b[39mtransform([sequence])[\u001b[38;5;241m0\u001b[39m]\n\u001b[1;32m---> 57\u001b[0m     bio_encoded \u001b[38;5;241m=\u001b[39m [\u001b[43mbiomarker_df\u001b[49m\u001b[43m[\u001b[49m\u001b[43mcol\u001b[49m\u001b[43m]\u001b[49m\u001b[38;5;241;43m.\u001b[39;49m\u001b[43munique\u001b[49m\u001b[43m(\u001b[49m\u001b[43m)\u001b[49m\u001b[38;5;241;43m.\u001b[39;49m\u001b[43mtolist\u001b[49m\u001b[43m(\u001b[49m\u001b[43m)\u001b[49m\u001b[38;5;241;43m.\u001b[39;49m\u001b[43mindex\u001b[49m\u001b[43m(\u001b[49m\u001b[43mbiomarkers\u001b[49m\u001b[38;5;241;43m.\u001b[39;49m\u001b[43mget\u001b[49m\u001b[43m(\u001b[49m\u001b[43mcol\u001b[49m\u001b[43m,\u001b[49m\u001b[43m \u001b[49m\u001b[38;5;124;43m\"\u001b[39;49m\u001b[38;5;124;43mNormal\u001b[39;49m\u001b[38;5;124;43m\"\u001b[39;49m\u001b[43m)\u001b[49m\u001b[43m)\u001b[49m \u001b[38;5;28;01mfor\u001b[39;00m col \u001b[38;5;129;01min\u001b[39;00m biomarker_features]\n\u001b[0;32m     58\u001b[0m     input_features \u001b[38;5;241m=\u001b[39m np\u001b[38;5;241m.\u001b[39mhstack([[seq_encoded], features, bio_encoded])\n\u001b[0;32m     59\u001b[0m     prediction \u001b[38;5;241m=\u001b[39m model\u001b[38;5;241m.\u001b[39mpredict([input_features])\n",
      "\u001b[1;31mValueError\u001b[0m: 'Elevated' is not in list"
     ]
    }
   ],
   "source": [
    "import pandas as pd\n",
    "import numpy as np\n",
    "from sklearn.model_selection import train_test_split\n",
    "from sklearn.preprocessing import LabelEncoder, OneHotEncoder\n",
    "from sklearn.ensemble import RandomForestClassifier\n",
    "from sklearn.pipeline import Pipeline\n",
    "from sklearn.compose import ColumnTransformer\n",
    "from sklearn.metrics import accuracy_score\n",
    "\n",
    "# Sample dataset\n",
    "# Each sequence leads to a different next activity\n",
    "sequence_data = [\n",
    "    (\"ER Registration -> ER Triage\", [1, 1, 1, 1, 1, 0, 0, 1, 50, 1], {\"Leucocytes\": \"Elevated\"}, \"Leucocytes\"),\n",
    "    (\"ER Registration -> ER Triage -> Leucocytes\", [1, 1, 1, 1, 1, 0, 0, 1, 50, 1], {\"Leucocytes\": \"Elevated\", \"CRP\": \"Severe\"}, \"CRP\"),\n",
    "    (\"ER Registration -> ER Triage -> Leucocytes -> CRP\", [1, 1, 1, 1, 1, 0, 0, 1, 50, 1], {\"Leucocytes\": \"Elevated\", \"CRP\": \"Severe\", \"LacticAcid\": \"High\"}, \"LacticAcid\"),\n",
    "]\n",
    "\n",
    "# Convert to DataFrame\n",
    "df = pd.DataFrame(sequence_data, columns=[\"sequence\", \"features\", \"biomarkers\", \"next_activity\"])\n",
    "\n",
    "# Encode sequences\n",
    "sequence_encoder = LabelEncoder()\n",
    "df[\"sequence_encoded\"] = sequence_encoder.fit_transform(df[\"sequence\"])\n",
    "\n",
    "# Encode biomarker values\n",
    "biomarker_features = [\"Leucocytes\", \"CRP\", \"LacticAcid\"]\n",
    "biomarker_df = pd.DataFrame([{key: value for key, value in row.items()} for row in df[\"biomarkers\"]], columns=biomarker_features).fillna(\"Normal\")\n",
    "biomarker_df = biomarker_df.apply(LabelEncoder().fit_transform)  # Convert categorical to numeric\n",
    "\n",
    "df = pd.concat([df, biomarker_df], axis=1)\n",
    "\n",
    "# Extract features and target\n",
    "X = np.hstack([df[[\"sequence_encoded\"]].values, np.vstack(df[\"features\"].values), biomarker_df.values])\n",
    "y = df[\"next_activity\"]\n",
    "\n",
    "# Encode target variable\n",
    "y_encoder = LabelEncoder()\n",
    "y = y_encoder.fit_transform(y)\n",
    "\n",
    "# Split data\n",
    "X_train, X_test, y_train, y_test = train_test_split(X, y, test_size=0.2, random_state=42)\n",
    "\n",
    "# Model Training\n",
    "model = RandomForestClassifier(n_estimators=100, random_state=42)\n",
    "model.fit(X_train, y_train)\n",
    "\n",
    "# Predictions\n",
    "y_pred = model.predict(X_test)\n",
    "\n",
    "# Accuracy\n",
    "accuracy = accuracy_score(y_test, y_pred)\n",
    "print(f\"Model Accuracy: {accuracy * 100:.2f}%\")\n",
    "\n",
    "# Function to predict next activity\n",
    "def predict_next_activity(sequence, features, biomarkers):\n",
    "    seq_encoded = sequence_encoder.transform([sequence])[0]\n",
    "    bio_encoded = [biomarker_df[col].unique().tolist().index(biomarkers.get(col, \"Normal\")) for col in biomarker_features]\n",
    "    input_features = np.hstack([[seq_encoded], features, bio_encoded])\n",
    "    prediction = model.predict([input_features])\n",
    "    return y_encoder.inverse_transform(prediction)[0]\n",
    "\n",
    "# Example prediction\n",
    "new_sequence = \"ER Registration -> ER Triage -> Leucocytes\"\n",
    "new_features = [1, 1, 1, 1, 1, 0, 0, 1, 50, 1]\n",
    "new_biomarkers = {\"Leucocytes\": \"Elevated\", \"CRP\": \"Severe\"}\n",
    "next_activity = predict_next_activity(new_sequence, new_features, new_biomarkers)\n",
    "print(f\"Predicted Next Activity: {next_activity}\")\n"
   ]
  },
  {
   "cell_type": "code",
   "execution_count": null,
   "metadata": {},
   "outputs": [],
   "source": []
  }
 ],
 "metadata": {
  "kernelspec": {
   "display_name": ".venv",
   "language": "python",
   "name": "python3"
  },
  "language_info": {
   "codemirror_mode": {
    "name": "ipython",
    "version": 3
   },
   "file_extension": ".py",
   "mimetype": "text/x-python",
   "name": "python",
   "nbconvert_exporter": "python",
   "pygments_lexer": "ipython3",
   "version": "3.11.9"
  }
 },
 "nbformat": 4,
 "nbformat_minor": 2
}
